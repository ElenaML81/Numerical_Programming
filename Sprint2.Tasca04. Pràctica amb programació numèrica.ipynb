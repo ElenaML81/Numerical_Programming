{
 "cells": [
  {
   "cell_type": "markdown",
   "id": "f5a6f217",
   "metadata": {},
   "source": [
    "### S02 T04: Pràctica amb programació numèrica"
   ]
  },
  {
   "cell_type": "markdown",
   "id": "5387c2a7",
   "metadata": {},
   "source": [
    "* **Exercici 1**"
   ]
  },
  {
   "cell_type": "markdown",
   "id": "326c8c14",
   "metadata": {},
   "source": [
    "Crea una funció que donat un Array d’una dimensió, et faci un resum estadístic bàsic de les dades. Si detecta que l’array té més d’una dimensió, ha de mostrar un missatge d’error."
   ]
  },
  {
   "cell_type": "code",
   "execution_count": 7,
   "id": "5a496ed4",
   "metadata": {
    "ExecuteTime": {
     "end_time": "2022-01-29T11:12:05.489604Z",
     "start_time": "2022-01-29T11:12:05.475727Z"
    }
   },
   "outputs": [],
   "source": [
    "import numpy as np\n",
    "import random "
   ]
  },
  {
   "cell_type": "code",
   "execution_count": 8,
   "id": "92f9ff6d",
   "metadata": {
    "ExecuteTime": {
     "end_time": "2022-01-29T11:12:05.505354Z",
     "start_time": "2022-01-29T11:12:05.491598Z"
    }
   },
   "outputs": [],
   "source": [
    "# crearem una funció que rebi com a paràmetre un array i ens torni un string amb les dades estadístiques o un missatge \n",
    "# d'error si la dimensio no es 1\n",
    "\n",
    "def array_statistics(array): \n",
    "    \n",
    "    size = array.size \n",
    "    mean = np.mean(array)\n",
    "    median = np.median(array)\n",
    "    variance = np.var(array)\n",
    "    std_deviation = np.std(array)\n",
    "    dimensions = array.ndim \n",
    "    \n",
    "    if dimensions == 1: \n",
    "        data = \"Tamany : \" + str(size) + \"\\n\"+\"Mitjana: \" + str(mean) + \"\\n\" + \"Median: \" + str(median) + \"\\n\" + \\\n",
    "        \"Variança: \"+ str(variance) +\"\\n\"+\"Desviació estàndar: \"+ str(std_deviation) + \"\\n\"+\"Dimensions: \"+ str(dimensions)\n",
    "    else:  \n",
    "        data = \"Error, la matriu ha de ser d'una dimensió.\"\n",
    "    return data"
   ]
  },
  {
   "cell_type": "code",
   "execution_count": 9,
   "id": "47daad07",
   "metadata": {
    "ExecuteTime": {
     "end_time": "2022-01-29T11:12:05.520924Z",
     "start_time": "2022-01-29T11:12:05.506398Z"
    }
   },
   "outputs": [
    {
     "name": "stdout",
     "output_type": "stream",
     "text": [
      "Tamany : 15\n",
      "Mitjana: 26.533333333333335\n",
      "Median: 32.0\n",
      "Variança: 195.44888888888892\n",
      "Desviació estàndar: 13.98030360503265\n",
      "Dimensions: 1\n"
     ]
    }
   ],
   "source": [
    "# Generarem un array d'una dimensió amb 15 números aleatoris del 1 al 50\n",
    "\n",
    "random_array = np.random.randint(1,51,15)\n",
    "data = array_statistics(random_array)\n",
    "print(data)"
   ]
  },
  {
   "cell_type": "code",
   "execution_count": 10,
   "id": "de85d635",
   "metadata": {
    "ExecuteTime": {
     "end_time": "2022-01-29T11:12:05.536127Z",
     "start_time": "2022-01-29T11:12:05.524748Z"
    }
   },
   "outputs": [
    {
     "name": "stdout",
     "output_type": "stream",
     "text": [
      "Error, la matriu ha de ser d'una dimensió.\n"
     ]
    }
   ],
   "source": [
    "# Amb la funció reshape canviarem les dimensions de la matriu per veure si ens torna un missatge d'error \n",
    "\n",
    "random_array = random_array.reshape(3,5)\n",
    "data = array_statistics(random_array)\n",
    "print(data)"
   ]
  },
  {
   "cell_type": "markdown",
   "id": "97bdb54a",
   "metadata": {},
   "source": [
    "* **EXERCICI 2**\n"
   ]
  },
  {
   "cell_type": "markdown",
   "id": "abb47e78",
   "metadata": {},
   "source": [
    "Crea una funció que et generi un quadrat NxN de nombres aleatoris entre el 0 i el 100."
   ]
  },
  {
   "cell_type": "code",
   "execution_count": 11,
   "id": "956d64e2",
   "metadata": {
    "ExecuteTime": {
     "end_time": "2022-01-29T11:12:05.551433Z",
     "start_time": "2022-01-29T11:12:05.537043Z"
    }
   },
   "outputs": [],
   "source": [
    "import numpy as np \n",
    "import random"
   ]
  },
  {
   "cell_type": "code",
   "execution_count": 12,
   "id": "94ddfa1e",
   "metadata": {
    "ExecuteTime": {
     "end_time": "2022-01-29T11:12:08.676017Z",
     "start_time": "2022-01-29T11:12:05.552432Z"
    }
   },
   "outputs": [
    {
     "name": "stdout",
     "output_type": "stream",
     "text": [
      "Escull un número sencer: 4\n"
     ]
    },
    {
     "data": {
      "text/plain": [
       "array([[94,  3, 73, 41],\n",
       "       [13, 81, 38,  8],\n",
       "       [93, 15, 19,  9],\n",
       "       [89, 69, 20, 91]])"
      ]
     },
     "execution_count": 12,
     "metadata": {},
     "output_type": "execute_result"
    }
   ],
   "source": [
    "def array_generator(number): \n",
    "# primer generem un array amb nombres aleatoris del 0 al 100 i després la canviarem amb la funció reshape perque tingui \n",
    "# 2 dimensions \n",
    "\n",
    "    random_square = np.random.randint(0,101,number**2).reshape(number, number)\n",
    "    return random_square\n",
    "\n",
    "number = int(input(\"Escull un número sencer: \"))\n",
    "random_square = array_generator(number)\n",
    "random_square\n"
   ]
  },
  {
   "cell_type": "markdown",
   "id": "97200b4d",
   "metadata": {},
   "source": [
    "+ **EXERCICI 3**"
   ]
  },
  {
   "cell_type": "markdown",
   "id": "9b604eb0",
   "metadata": {
    "ExecuteTime": {
     "end_time": "2022-01-27T16:31:33.605533Z",
     "start_time": "2022-01-27T16:31:33.595459Z"
    }
   },
   "source": [
    "Crea una funció que donada una taula de dues dimensions, et calculi els totals per fila i els totals per columna."
   ]
  },
  {
   "cell_type": "code",
   "execution_count": 13,
   "id": "8eef4804",
   "metadata": {
    "ExecuteTime": {
     "end_time": "2022-01-29T11:12:08.691523Z",
     "start_time": "2022-01-29T11:12:08.677019Z"
    }
   },
   "outputs": [
    {
     "data": {
      "text/plain": [
       "array([[18, 15, 17, 11],\n",
       "       [ 0, 14, 18,  1],\n",
       "       [25,  9, 21, 21],\n",
       "       [20, 21, 20, 17],\n",
       "       [20,  9, 25,  6]])"
      ]
     },
     "execution_count": 13,
     "metadata": {},
     "output_type": "execute_result"
    }
   ],
   "source": [
    "# farem servir la funció de numpy apply_along_axis, on 0 vol dir columnes i 1 vol dir files. \n",
    "\n",
    "def total_sum(array): \n",
    "    sum_of_columns = np.apply_along_axis(sum, 0, array)\n",
    "    sum_of_rows = np.apply_along_axis(sum, 1, array)\n",
    "    \n",
    "    return \"La suma de cada fila és \" +str(sum_of_rows)+ \" i la suma de cada columna és \" +str(sum_of_columns)\n",
    "\n",
    "array = np.random.randint(0,26, 20).reshape(5,4)\n",
    "array "
   ]
  },
  {
   "cell_type": "code",
   "execution_count": 14,
   "id": "666f699f",
   "metadata": {
    "ExecuteTime": {
     "end_time": "2022-01-29T11:12:08.706788Z",
     "start_time": "2022-01-29T11:12:08.692487Z"
    }
   },
   "outputs": [
    {
     "data": {
      "text/plain": [
       "'La suma de cada fila és [61 33 76 78 60] i la suma de cada columna és [ 83  68 101  56]'"
      ]
     },
     "execution_count": 14,
     "metadata": {},
     "output_type": "execute_result"
    }
   ],
   "source": [
    "totals = total_sum(array)\n",
    "totals"
   ]
  },
  {
   "cell_type": "markdown",
   "id": "008f1129",
   "metadata": {},
   "source": [
    "* **EXERCICI 4**"
   ]
  },
  {
   "cell_type": "markdown",
   "id": "d2ca31f9",
   "metadata": {},
   "source": [
    "Implementa manualment una funció que calculi el coeficient de correlació. Informa’t-en sobre els seus usos i interpretació."
   ]
  },
  {
   "cell_type": "markdown",
   "id": "dc002d9e",
   "metadata": {},
   "source": [
    "El quoeficient de correlació es fa servir per veure la relació entre dos variables quantitatives. Ens serveix per respondre preguntes del tipus: \"al canviar el valor d´una de les variables, canvien els valors també en l'alta?\".  Aquesta mesura ens **dona informació tant de la intensitat com de la direcció de la relació**. Comprén valors entre 1 i -1: "
   ]
  },
  {
   "cell_type": "markdown",
   "id": "a8992f2a",
   "metadata": {},
   "source": [
    "* Un valor menor que 0: vol dir que les variables estan associades en sentit invers. Com més pròxim a -1, major és la força d'aquesta relació invertida. Si és -1 vol dir que les variables tenen una correlació negativa perfecta. "
   ]
  },
  {
   "cell_type": "markdown",
   "id": "002ed1c3",
   "metadata": {},
   "source": [
    "* Un valor major que 0 vol dir que existeix una correlació positiva. En aquest cas les variables estam associades de forma directa, com més a prop de 1 més directa és aquesta relació. Un valor de  indicaria una relació positiva perfecta. "
   ]
  },
  {
   "cell_type": "markdown",
   "id": "9988a032",
   "metadata": {},
   "source": [
    "* Una correlació de  o pròxima a  voldria dir que no existeix relació entre les dos variables. "
   ]
  },
  {
   "cell_type": "markdown",
   "id": "e0e6f81d",
   "metadata": {},
   "source": [
    "Ara calcularem la fòrmula i veurem alguns exemples pràctics. "
   ]
  },
  {
   "cell_type": "markdown",
   "id": "61f7f337",
   "metadata": {},
   "source": [
    "Entenc que sen's demana fer de forma manual tots els càlculs possibles, per lo tant faré servir la fòrmula: "
   ]
  },
  {
   "cell_type": "markdown",
   "id": "6fecd143",
   "metadata": {},
   "source": [
    "<div>\n",
    "<img src=\"formula.png\" width=\"500\"/>\n",
    "</div>"
   ]
  },
  {
   "cell_type": "markdown",
   "id": "bfa9a6ac",
   "metadata": {},
   "source": [
    "Primer crearem una funció per calcular la mitjana d'un array donat, així la podrem cridar quan la necessitem: "
   ]
  },
  {
   "cell_type": "code",
   "execution_count": 15,
   "id": "d96315b0",
   "metadata": {
    "ExecuteTime": {
     "end_time": "2022-01-29T11:12:08.722588Z",
     "start_time": "2022-01-29T11:12:08.707819Z"
    }
   },
   "outputs": [],
   "source": [
    "import numpy as np"
   ]
  },
  {
   "cell_type": "code",
   "execution_count": 16,
   "id": "9ad5e68b",
   "metadata": {
    "ExecuteTime": {
     "end_time": "2022-01-29T11:12:08.737461Z",
     "start_time": "2022-01-29T11:12:08.725587Z"
    }
   },
   "outputs": [],
   "source": [
    "def mean_calculation(array): \n",
    "    x_sum = 0\n",
    "    size = 0\n",
    "    for x in array: \n",
    "        x_sum = x_sum + x \n",
    "        size = size +1\n",
    "    mean = x_sum / size\n",
    "    return mean "
   ]
  },
  {
   "cell_type": "markdown",
   "id": "2c90042c",
   "metadata": {},
   "source": [
    "Ara crearem una funció que calculi les diferències de cada element de l'array respecte a la mitjana. Aquesta funció retornarà un array amb les diferències."
   ]
  },
  {
   "cell_type": "code",
   "execution_count": 25,
   "id": "e77e0532",
   "metadata": {
    "ExecuteTime": {
     "end_time": "2022-01-30T13:20:51.988594Z",
     "start_time": "2022-01-30T13:20:51.977601Z"
    }
   },
   "outputs": [],
   "source": [
    "def list_of_differences(array, mean): \n",
    "    total_differences = array -mean \n",
    "    return total_differences  \n"
   ]
  },
  {
   "cell_type": "markdown",
   "id": "40f84c8b",
   "metadata": {},
   "source": [
    "Ara hem de calcular la suma dels productes entre dos arrays donades i tindrem el numerador de la formula (la suma dels productes de les seves diferències). "
   ]
  },
  {
   "cell_type": "code",
   "execution_count": 28,
   "id": "287bfbdd",
   "metadata": {
    "ExecuteTime": {
     "end_time": "2022-01-30T13:21:24.753603Z",
     "start_time": "2022-01-30T13:21:24.748652Z"
    }
   },
   "outputs": [],
   "source": [
    "def sum_of_products(array_x, array_y): \n",
    "    mean_x = mean_calculation(array_x)\n",
    "    mean_y = mean_calculation(array_y)\n",
    "    total_differences_x = list_of_differences(array_x , mean_x)\n",
    "    total_differences_y = list_of_differences(array_y, mean_y)  \n",
    "    \n",
    "    total_list = total_differences_x*total_differences_y\n",
    "    \n",
    "    total_sum = 0\n",
    "    for i in total_list: \n",
    "        total_sum = total_sum + i \n",
    "    return total_sum"
   ]
  },
  {
   "cell_type": "markdown",
   "id": "a814eae6",
   "metadata": {},
   "source": [
    "Ara que ja tenim el numerador de la fòrrmula, haurem de calcular el denominador. Primer calcularem la suma de les diferències al quadrat: \n"
   ]
  },
  {
   "cell_type": "code",
   "execution_count": 49,
   "id": "b46ecf5f",
   "metadata": {
    "ExecuteTime": {
     "end_time": "2022-01-30T13:49:35.455129Z",
     "start_time": "2022-01-30T13:49:35.436418Z"
    }
   },
   "outputs": [],
   "source": [
    "def square_differences(array): \n",
    "    mean = mean_calculation(array)\n",
    "    # ja tenim la funció que retorna una array de diferències, la cridem i la recorrerem amb un bucle for on calcularem\n",
    "    # el quadrat de cada element i l'anirem sumant. La funció retornarà la suma de tots els elements al quadrat.\n",
    "    differences = list_of_differences(array, mean)\n",
    "    squares = 0\n",
    "    for i in differences: \n",
    "        squares = squares + i**2\n",
    "    return squares"
   ]
  },
  {
   "cell_type": "markdown",
   "id": "17710bbb",
   "metadata": {},
   "source": [
    "Ara ja podem definir la funció per calcular la correlació: "
   ]
  },
  {
   "cell_type": "code",
   "execution_count": 30,
   "id": "31da8667",
   "metadata": {
    "ExecuteTime": {
     "end_time": "2022-01-30T13:21:42.572039Z",
     "start_time": "2022-01-30T13:21:42.561790Z"
    }
   },
   "outputs": [],
   "source": [
    "def correlation_quoefficient(array_x, array_y): \n",
    "    import math \n",
    "    \n",
    "    # cridem la funció que conté el nominador de la fòrmula: \n",
    "    nominator = sum_of_products(array_x, array_y)\n",
    "    \n",
    "    # Fem els càlculs per definir el denominador fent servir la funció que retorna la suma de diferències al quadrat: \n",
    "    squares_x = square_differences(array_x)\n",
    "    squares_y = square_differences(array_y)\n",
    "    product_of_squares = squares_x*squares_y\n",
    "    root_of_squares = math.sqrt(product_of_squares)\n",
    "    \n",
    "    # ara ja tenim tots els calculs per fer la formula: \n",
    "    correlation = nominator/root_of_squares\n",
    "    \n",
    "    return correlation"
   ]
  },
  {
   "cell_type": "markdown",
   "id": "70131847",
   "metadata": {},
   "source": [
    "Per probar la fòrmula, primer calcularem la correlació entre dos arrays aleatoris: "
   ]
  },
  {
   "cell_type": "code",
   "execution_count": 53,
   "id": "ffdd6f19",
   "metadata": {
    "ExecuteTime": {
     "end_time": "2022-01-30T13:50:36.973964Z",
     "start_time": "2022-01-30T13:50:36.963897Z"
    }
   },
   "outputs": [
    {
     "name": "stdout",
     "output_type": "stream",
     "text": [
      "0.08876374785979799\n",
      "[[1.         0.08876375]\n",
      " [0.08876375 1.        ]]\n"
     ]
    }
   ],
   "source": [
    "array_x = np.random.randint(1,51,10)\n",
    "array_y = np.random.randint(1,51,10)\n",
    "correlation = correlation_quoefficient(array_x, array_y)\n",
    "print(correlation)\n",
    "# imprimiré també la funció que ens dona numpy per comparar que el resultat sigui el mateix i que la fòrmula està be: \n",
    "print(np.corrcoef(array_x, array_y))"
   ]
  },
  {
   "cell_type": "markdown",
   "id": "d6a87f04",
   "metadata": {},
   "source": [
    "Veiem que la correlació es molt baixa, 0.089 (8,9 %), aixó té sentit ja que estem buscant la relació entre dos arrays fets amb nombres aleatoris, té sentit que aquests no tinguin cap correlació. De tota manera si probem el resultat vàries vegades la correlació pot sortir més alta, per lo tant, entenem que la correlació no hauria de ser l'únic indicador que tindrem en compte a l´hora de definir la relació entre dos variables. "
   ]
  },
  {
   "cell_type": "markdown",
   "id": "4dc7d65c",
   "metadata": {},
   "source": [
    "Crearem un array del 1 al 5 i un altre amb els valors que siguin el doble del primer array, a veure quin és el resultat: "
   ]
  },
  {
   "cell_type": "code",
   "execution_count": 45,
   "id": "dbed9f72",
   "metadata": {
    "ExecuteTime": {
     "end_time": "2022-01-30T13:22:42.773717Z",
     "start_time": "2022-01-30T13:22:42.766443Z"
    }
   },
   "outputs": [
    {
     "data": {
      "text/plain": [
       "1.0"
      ]
     },
     "execution_count": 45,
     "metadata": {},
     "output_type": "execute_result"
    }
   ],
   "source": [
    "array_x = np.array((1,2,3,4,5))\n",
    "array_y = np.array((2,4,6,8,10))\n",
    "correlation = correlation_quoefficient(array_x, array_y)\n",
    "correlation"
   ]
  },
  {
   "cell_type": "markdown",
   "id": "c6d2748b",
   "metadata": {},
   "source": [
    "La correlació es perfecta i positiva, aixó es perque els elements de l'array y son exactament el doble dels elements de x, per lo tant, la correlació en aquest cas és 100% positiva. "
   ]
  },
  {
   "cell_type": "markdown",
   "id": "08063f4b",
   "metadata": {},
   "source": [
    "Ara farem un exemple de correlació 100% negativa: "
   ]
  },
  {
   "cell_type": "code",
   "execution_count": 46,
   "id": "8c4da7bd",
   "metadata": {
    "ExecuteTime": {
     "end_time": "2022-01-30T13:22:44.986205Z",
     "start_time": "2022-01-30T13:22:44.976815Z"
    }
   },
   "outputs": [
    {
     "data": {
      "text/plain": [
       "-1.0"
      ]
     },
     "execution_count": 46,
     "metadata": {},
     "output_type": "execute_result"
    }
   ],
   "source": [
    "array_x = np.array((1,2,3,4,5))\n",
    "array_y = np.array((10,8,6,4,2))\n",
    "correlation = correlation_quoefficient(array_x, array_y)\n",
    "correlation"
   ]
  },
  {
   "cell_type": "markdown",
   "id": "4dce0b89",
   "metadata": {},
   "source": [
    "També té sentit, perque els elements de l'array y decreixen al mateix rati que augmenten els del array x, per lo tant el coeficient de correlaciò entre els dos arrays és 100% negativa. "
   ]
  },
  {
   "cell_type": "markdown",
   "id": "b91cb632",
   "metadata": {},
   "source": [
    "Si cambiem alguns elements dels arrays anteriors de forma manual: "
   ]
  },
  {
   "cell_type": "code",
   "execution_count": 48,
   "id": "15f98b81",
   "metadata": {
    "ExecuteTime": {
     "end_time": "2022-01-30T13:29:00.421689Z",
     "start_time": "2022-01-30T13:29:00.414477Z"
    }
   },
   "outputs": [
    {
     "data": {
      "text/plain": [
       "0.7418253689708787"
      ]
     },
     "execution_count": 48,
     "metadata": {},
     "output_type": "execute_result"
    }
   ],
   "source": [
    "array_x = np.array((1,5,3,4,7))\n",
    "array_y = np.array((3,4,6,8,10))\n",
    "correlation = correlation_quoefficient(array_x, array_y)\n",
    "correlation"
   ]
  },
  {
   "cell_type": "markdown",
   "id": "5c8d7c1a",
   "metadata": {},
   "source": [
    "Veiem que el coeficient de correlació ha baixat, ara és del 74%, els elements dels arrays ja no tenen una correlació perfecta. "
   ]
  }
 ],
 "metadata": {
  "kernelspec": {
   "display_name": "Python 3 (ipykernel)",
   "language": "python",
   "name": "python3"
  },
  "language_info": {
   "codemirror_mode": {
    "name": "ipython",
    "version": 3
   },
   "file_extension": ".py",
   "mimetype": "text/x-python",
   "name": "python",
   "nbconvert_exporter": "python",
   "pygments_lexer": "ipython3",
   "version": "3.9.7"
  }
 },
 "nbformat": 4,
 "nbformat_minor": 5
}
